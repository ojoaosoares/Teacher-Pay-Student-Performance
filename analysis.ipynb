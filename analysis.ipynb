{
  "cells": [
    {
      "cell_type": "code",
      "execution_count": null,
      "id": "9f3e6093",
      "metadata": {},
      "outputs": [],
      "source": [
        "import os\n",
        "import shutil\n",
        "import zipfile\n",
        "import sys\n",
        "import requests\n",
        "import concurrent.futures\n",
        "import urllib3\n",
        "import sqlite3\n",
        "import pandas as pd\n",
        "from prettytable import PrettyTable\n",
        "import seaborn as sb\n",
        "\n",
        "download_dir = './tmp/'\n",
        "data_dir = './data/'\n",
        "extract_dir = './data/raw/'\n",
        "database_dir = './data/database.db'"
      ]
    },
    {
      "cell_type": "markdown",
      "id": "P5hcBRrFVhi0",
      "metadata": {
        "id": "P5hcBRrFVhi0"
      },
      "source": [
        "# Download Data"
      ]
    },
    {
      "cell_type": "code",
      "execution_count": null,
      "id": "Xp4xpWwy03Ps",
      "metadata": {
        "colab": {
          "base_uri": "https://localhost:8080/"
        },
        "id": "Xp4xpWwy03Ps",
        "outputId": "23ecab44-237a-49b2-f305-cd726ac66d85"
      },
      "outputs": [],
      "source": [
        "# Desabilita os avisos de certificado SSL\n",
        "urllib3.disable_warnings(urllib3.exceptions.InsecureRequestWarning)\n",
        "\n",
        "urls = [\n",
        "  'https://download.inep.gov.br/informacoes_estatisticas/indicadores_educacionais/2019/remuneracao_media_docentes/remuneracao_docentes_brasil_2019.zip',\n",
        "  'https://download.inep.gov.br/informacoes_estatisticas/indicadores_educacionais/2019/remuneracao_media_docentes/remuneracao_docentes_uf_2019.zip',\n",
        "  'https://download.inep.gov.br/informacoes_estatisticas/indicadores_educacionais/2019/remuneracao_media_docentes/remuneracao_docentes_municipios_2019.zip',\n",
        "  'https://download.inep.gov.br/educacao_basica/portal_ideb/planilhas_para_download/2019/divulgacao_brasil_ideb_2019.zip',\n",
        "  'https://download.inep.gov.br/educacao_basica/portal_ideb/planilhas_para_download/2019/divulgacao_regioes_ufs_ideb_2019.zip',\n",
        "  'https://download.inep.gov.br/educacao_basica/portal_ideb/planilhas_para_download/2019/divulgacao_anos_iniciais_municipios_2019.zip',\n",
        "  'https://download.inep.gov.br/educacao_basica/portal_ideb/planilhas_para_download/2019/divulgacao_anos_finais_municipios_2019.zip',\n",
        "  'https://download.inep.gov.br/educacao_basica/portal_ideb/planilhas_para_download/2019/divulgacao_ensino_medio_municipios_2019.zip',\n",
        "  'https://download.inep.gov.br/educacao_basica/portal_ideb/planilhas_para_download/2019/divulgacao_anos_iniciais_escolas_2019.zip',\n",
        "  'https://download.inep.gov.br/educacao_basica/portal_ideb/planilhas_para_download/2019/divulgacao_anos_finais_escolas_2019.zip',\n",
        "  'https://download.inep.gov.br/educacao_basica/portal_ideb/planilhas_para_download/2019/divulgacao_ensino_medio_escolas_2019.zip'\n",
        "]\n",
        "\n",
        "if os.path.exists(download_dir):\n",
        "  shutil.rmtree(download_dir)\n",
        "    \n",
        "os.makedirs(download_dir, exist_ok=True)\n",
        "\n",
        "if os.path.exists(data_dir):\n",
        "  shutil.rmtree(data_dir)\n",
        "    \n",
        "os.makedirs(data_dir, exist_ok=True)\n",
        "\n",
        "if os.path.exists(extract_dir):\n",
        "  shutil.rmtree(extract_dir)\n",
        "    \n",
        "os.makedirs(extract_dir, exist_ok=True)\n",
        "\n",
        "def download_file(url):\n",
        "    filename = os.path.join(download_dir, os.path.basename(url))\n",
        "    if 'google.colab' in sys.modules:\n",
        "      # Se estiver no Google Colab, usa o comando !wget\n",
        "      !wget -P tmp/ --no-check-certificate {url}\n",
        "    else:\n",
        "      with requests.get(url, stream=True, verify=False) as r:\n",
        "        with open(filename, 'wb') as f:\n",
        "          shutil.copyfileobj(r.raw, f)\n",
        "      return filename\n",
        "\n",
        "if __name__ == \"__main__\":\n",
        "  with concurrent.futures.ThreadPoolExecutor() as executor:\n",
        "    future_to_url = {executor.submit(download_file, url): url for url in urls}\n",
        "    for future in concurrent.futures.as_completed(future_to_url):\n",
        "      url = future_to_url[future]\n",
        "      try:\n",
        "        filename = future.result()\n",
        "        print(f\"Downloaded {url} to {filename}\")\n",
        "      except Exception as e:\n",
        "        print(f\"Failed to download {url}: {e}\")\n",
        "\n",
        "  for filename in os.listdir(download_dir):\n",
        "    shutil.move(os.path.join(download_dir, filename), os.path.join(extract_dir, filename))\n",
        "\n",
        "  for filename in os.listdir(extract_dir):\n",
        "    if filename.endswith(\".zip\"):\n",
        "      zip_path = os.path.join(extract_dir, filename)\n",
        "      with zipfile.ZipFile(zip_path, 'r') as zip_ref:\n",
        "        found = False\n",
        "        for file_name in zip_ref.namelist():\n",
        "          if file_name.endswith(\".xlsx\"):\n",
        "            dest_filename = os.path.basename(file_name)\n",
        "            dest_path = os.path.join(extract_dir, dest_filename)\n",
        "            with zip_ref.open(file_name) as zip_file, open(dest_path, 'wb') as extracted_file:\n",
        "              extracted_file.write(zip_file.read())\n",
        "            print(f'File {file_name} extracted to {extract_dir}')\n",
        "            found = True\n",
        "\n",
        "        if not found:\n",
        "          print(f'Error: No .xlsx files found in the ZIP file {zip_path}')\n",
        "\n",
        "      os.remove(zip_path)\n",
        "      print(f'ZIP file {zip_path} removed')\n",
        "    else:\n",
        "      print(f'The file {filename} is not a valid ZIP file')\n"
      ]
    },
    {
      "cell_type": "markdown",
      "id": "zHaiFEOyVn8K",
      "metadata": {
        "id": "zHaiFEOyVn8K"
      },
      "source": [
        "# Database creation"
      ]
    },
    {
      "cell_type": "code",
      "execution_count": null,
      "id": "ec373ae8",
      "metadata": {
        "colab": {
          "base_uri": "https://localhost:8080/"
        },
        "id": "ec373ae8",
        "outputId": "1e142443-0649-4928-fb2d-563b274f3709",
        "scrolled": false
      },
      "outputs": [],
      "source": [
        "# Definição de colunas\n",
        "\n",
        "region_column = 'Região'\n",
        "state_column = 'UF'\n",
        "city_id_column = 'Código do município'\n",
        "city_name_column = 'Nome do município'\n",
        "adm_dependence_column = 'Dependência administrativa'\n",
        "education_column = 'Escolaridade do docente'\n",
        "teacher_number_column = 'Número de docentes Censo Escolar'\n",
        "rais_teacher_percentage_column = '% de docentes localizados na RAIS'\n",
        "first_quartile_column = '1º quartil'\n",
        "median_column ='Mediana'\n",
        "average_column = 'Média'\n",
        "third_quartile_column = '3º quartil',\n",
        "standard_deviation_column = 'Desvio padrão'\n",
        "weekly_workload_column ='Carga horária média semanal'\n",
        "standardized_pay_40_hours_column ='Remuneração média padronizada para 40h semanais em R$'\n",
        "\n",
        "state_or_region = 'UF ou região'\n",
        "\n",
        "school_id_column = 'Código da escola'\n",
        "school_name_column = 'Nome da escola'\n",
        "school_type_column = 'Rede'\n",
        "\n",
        "first_to_fifth_grade_results_column = 'Resultados primeiro ao quinto ano'\n",
        "first_grade_results_column = 'Resultados primeiro ano'\n",
        "second_grade_results_column = 'Resultados segundo ano'\n",
        "third_grade_results_column = 'Resultados terceiro ano'\n",
        "fourth_grade_results_column = 'Resultados quarto ano'\n",
        "fifth_grade_results_column = 'Resultados quinto ano'\n",
        "\n",
        "sixth_to_nineth_grade_results_column = 'Resultados sexto ao nono ano'\n",
        "sixth_grade_results_column = 'Resultados sexto ano'\n",
        "seventh_grade_results_column = 'Resultados setimo ano'\n",
        "eighth_grade_results_column = 'Resultados oitavo ano'\n",
        "ninth_grade_results_column = 'Resultados nono ano'\n",
        "\n",
        "first_to_third_high_grade_results_column = 'Resultados primeiro ao terceiro ano ensino medio'\n",
        "first_high_grade_results_column = 'Resultados primeiro ano ensino medio'\n",
        "second_high_grade_results_column = 'Resultados segundo ano ensino medio'\n",
        "third_high_grade_results_column = 'Resultados terceiro ano ensino medio'\n",
        "\n",
        "yield_indicator_column = 'Indicador de rendimento (P)'\n",
        "math_results = 'Resultados matematica'\n",
        "portuguese_results_column = 'Resultados portugues'\n",
        "standardized_average_column = 'Media padronizada (N)'\n",
        "ideb_column = 'IDEB (N x P)'\n",
        "\n",
        "\n",
        "# Verificando os arquivos extraídos\n",
        "extracted_files = os.listdir(extract_dir)\n",
        "extracted_files = sorted(extracted_files)\n",
        "\n",
        "# Conectar ao banco de dados SQLite (isso criará o arquivo exemplo.db se não existir)\n",
        "conn = sqlite3.connect(database_dir)\n",
        "\n",
        "\n",
        "columns = [\n",
        "\n",
        "    [\n",
        "        adm_dependence_column,\n",
        "        education_column, teacher_number_column, rais_teacher_percentage_column, first_quartile_column,\n",
        "        median_column, average_column, third_quartile_column, standard_deviation_column, weekly_workload_column,\n",
        "        standardized_pay_40_hours_column\n",
        "    ], # Brasil columns\n",
        "\n",
        "    [\n",
        "        region_column, state_column, city_id_column, city_name_column, adm_dependence_column,\n",
        "        education_column, teacher_number_column, rais_teacher_percentage_column, first_quartile_column,\n",
        "        median_column, average_column, third_quartile_column, standard_deviation_column, weekly_workload_column,\n",
        "        standardized_pay_40_hours_column\n",
        "    ], # Municipios columns\n",
        "\n",
        "    [\n",
        "        region_column, state_column, adm_dependence_column,\n",
        "        education_column, teacher_number_column, rais_teacher_percentage_column, first_quartile_column,\n",
        "        median_column, average_column, third_quartile_column, standard_deviation_column, weekly_workload_column,\n",
        "        standardized_pay_40_hours_column\n",
        "    ], # UFs columns\n",
        "\n",
        "    [\n",
        "        state_column, city_id_column, city_name_column,\n",
        "        school_id_column, school_name_column, school_type_column, sixth_to_nineth_grade_results_column, sixth_grade_results_column,\n",
        "        seventh_grade_results_column, eighth_grade_results_column, ninth_grade_results_column, yield_indicator_column,\n",
        "        math_results, portuguese_results_column, standardized_average_column, ideb_column\n",
        "    ],\n",
        "    [\n",
        "        state_column, city_id_column, city_name_column,\n",
        "        school_type_column, sixth_to_nineth_grade_results_column, sixth_grade_results_column,\n",
        "        seventh_grade_results_column, eighth_grade_results_column, ninth_grade_results_column, yield_indicator_column,\n",
        "        math_results, portuguese_results_column, standardized_average_column, ideb_column\n",
        "    ],\n",
        "\n",
        "    [\n",
        "        state_column, city_id_column, city_name_column, school_id_column, school_name_column,\n",
        "        school_type_column, first_to_fifth_grade_results_column, first_grade_results_column, second_grade_results_column,\n",
        "        third_grade_results_column, fourth_grade_results_column, fifth_grade_results_column, yield_indicator_column,\n",
        "        math_results, portuguese_results_column, standardized_average_column, ideb_column\n",
        "    ],\n",
        "    [\n",
        "        state_column, city_id_column, city_name_column,\n",
        "        school_type_column, first_to_fifth_grade_results_column, first_grade_results_column, second_grade_results_column,\n",
        "        third_grade_results_column, fourth_grade_results_column, fifth_grade_results_column, yield_indicator_column,\n",
        "        math_results, portuguese_results_column, standardized_average_column, ideb_column\n",
        "    ],\n",
        "    [\n",
        "        school_type_column, first_to_fifth_grade_results_column, first_grade_results_column, second_grade_results_column,\n",
        "        third_grade_results_column, fourth_grade_results_column, fifth_grade_results_column, yield_indicator_column,\n",
        "        math_results, portuguese_results_column, standardized_average_column, ideb_column\n",
        "    ],\n",
        "    [\n",
        "        state_column, city_id_column, city_name_column,\n",
        "        school_id_column, school_name_column, school_type_column,\n",
        "        first_to_third_high_grade_results_column, first_high_grade_results_column,\n",
        "        second_high_grade_results_column, third_high_grade_results_column, yield_indicator_column,\n",
        "        math_results, portuguese_results_column, standardized_average_column, ideb_column\n",
        "    ],\n",
        "    [\n",
        "        state_column, city_id_column, city_name_column, school_type_column,\n",
        "        first_to_third_high_grade_results_column, first_high_grade_results_column,\n",
        "        second_high_grade_results_column, third_high_grade_results_column, yield_indicator_column,\n",
        "        math_results, portuguese_results_column, standardized_average_column, ideb_column\n",
        "    ],\n",
        "    [\n",
        "        state_or_region, school_type_column,\n",
        "        first_to_fifth_grade_results_column, first_grade_results_column, second_grade_results_column,\n",
        "        third_grade_results_column, fourth_grade_results_column, fifth_grade_results_column, yield_indicator_column,\n",
        "        math_results, portuguese_results_column, standardized_average_column, ideb_column\n",
        "    ]\n",
        "]\n",
        "\n",
        "dtype = [\n",
        "\n",
        "    {\n",
        "        adm_dependence_column: 'string',\n",
        "        education_column: 'string',\n",
        "        teacher_number_column: 'int32',\n",
        "        rais_teacher_percentage_column: 'float32',\n",
        "        first_quartile_column: 'float32',\n",
        "        median_column: 'float32',\n",
        "        average_column: 'float32',\n",
        "        third_quartile_column: 'float32',\n",
        "        standard_deviation_column: 'float32' ,\n",
        "        weekly_workload_column: 'float32',\n",
        "        standardized_pay_40_hours_column: 'float32',\n",
        "    },\n",
        "\n",
        "    {\n",
        "\n",
        "        region_column: 'string',\n",
        "        state_column: 'string',\n",
        "        city_id_column: 'int32',\n",
        "        city_name_column: 'string',\n",
        "        adm_dependence_column: 'string',\n",
        "        education_column: 'string',\n",
        "        teacher_number_column: 'int32',\n",
        "        rais_teacher_percentage_column: 'float32',\n",
        "        first_quartile_column: 'float32',\n",
        "        median_column: 'float32',\n",
        "        average_column: 'float32',\n",
        "        third_quartile_column: 'float32',\n",
        "        standard_deviation_column: 'float32' ,\n",
        "        weekly_workload_column: 'float32',\n",
        "        standardized_pay_40_hours_column: 'float32',\n",
        "    },\n",
        "\n",
        "    {\n",
        "        region_column: 'string',\n",
        "        state_column: 'string',\n",
        "        adm_dependence_column: 'string',\n",
        "        education_column: 'string',\n",
        "        teacher_number_column: 'int32',\n",
        "        rais_teacher_percentage_column: 'float32',\n",
        "        first_quartile_column: 'float32',\n",
        "        median_column: 'float32',\n",
        "        average_column: 'float32',\n",
        "        third_quartile_column: 'float32',\n",
        "        standard_deviation_column: 'float32' ,\n",
        "        weekly_workload_column: 'float32',\n",
        "        standardized_pay_40_hours_column: 'float32',\n",
        "\n",
        "    },\n",
        "\n",
        "    {\n",
        "\n",
        "        state_column: 'string',\n",
        "        city_id_column: 'int32',\n",
        "        city_name_column: 'string',\n",
        "        school_id_column: 'int32',\n",
        "        school_name_column: 'string',\n",
        "        school_type_column: 'string',\n",
        "        sixth_to_nineth_grade_results_column: 'float32',\n",
        "        sixth_grade_results_column: 'float32',\n",
        "        seventh_grade_results_column: 'float32',\n",
        "        eighth_grade_results_column: 'float32',\n",
        "        ninth_grade_results_column: 'float32',\n",
        "        yield_indicator_column: 'float32',\n",
        "        math_results: 'float32',\n",
        "        portuguese_results_column: 'float32',\n",
        "        standardized_average_column: 'float32',\n",
        "        ideb_column: 'float32'\n",
        "\n",
        "    },\n",
        "\n",
        "    {\n",
        "\n",
        "        state_column: 'string',\n",
        "        city_id_column: 'int32',\n",
        "        city_name_column: 'string',\n",
        "        school_type_column: 'string',\n",
        "        sixth_to_nineth_grade_results_column: 'float32',\n",
        "        sixth_grade_results_column: 'float32',\n",
        "        seventh_grade_results_column: 'float32',\n",
        "        eighth_grade_results_column: 'float32',\n",
        "        ninth_grade_results_column: 'float32',\n",
        "        yield_indicator_column: 'float32',\n",
        "        math_results: 'float32',\n",
        "        portuguese_results_column: 'float32',\n",
        "        standardized_average_column: 'float32',\n",
        "        ideb_column: 'float32'\n",
        "\n",
        "    },\n",
        "\n",
        "    {\n",
        "\n",
        "        state_column: 'string',\n",
        "        city_id_column: 'int32',\n",
        "        city_name_column: 'string',\n",
        "        school_id_column: 'int32',\n",
        "        school_name_column: 'string',\n",
        "        school_type_column: 'string',\n",
        "        first_to_fifth_grade_results_column: 'float32',\n",
        "        first_grade_results_column: 'float32',\n",
        "        second_grade_results_column: 'float32',\n",
        "        third_grade_results_column: 'float32',\n",
        "        fourth_grade_results_column: 'float32',\n",
        "        fifth_grade_results_column: 'float32',\n",
        "        yield_indicator_column: 'float32',\n",
        "        math_results: 'float32',\n",
        "        portuguese_results_column: 'float32',\n",
        "        standardized_average_column: 'float32',\n",
        "        ideb_column: 'float32'\n",
        "\n",
        "    },\n",
        "\n",
        "    {\n",
        "\n",
        "        state_column: 'string',\n",
        "        city_id_column: 'int32',\n",
        "        city_name_column: 'string',\n",
        "        school_type_column: 'string',\n",
        "        first_to_fifth_grade_results_column: 'float32',\n",
        "        first_grade_results_column: 'float32',\n",
        "        second_grade_results_column: 'float32',\n",
        "        third_grade_results_column: 'float32',\n",
        "        fourth_grade_results_column: 'float32',\n",
        "        fifth_grade_results_column: 'float32',\n",
        "        yield_indicator_column: 'float32',\n",
        "        math_results: 'float32',\n",
        "        portuguese_results_column: 'float32',\n",
        "        standardized_average_column: 'float32',\n",
        "        ideb_column: 'float32'\n",
        "\n",
        "    },\n",
        "\n",
        "    {\n",
        "        school_type_column: 'string',\n",
        "        first_to_fifth_grade_results_column: 'float32',\n",
        "        first_grade_results_column: 'float32',\n",
        "        second_grade_results_column: 'float32',\n",
        "        third_grade_results_column: 'float32',\n",
        "        fourth_grade_results_column: 'float32',\n",
        "        fifth_grade_results_column: 'float32',\n",
        "        yield_indicator_column: 'float32',\n",
        "        math_results: 'float32',\n",
        "        portuguese_results_column: 'float32',\n",
        "        standardized_average_column: 'float32',\n",
        "        ideb_column: 'float32'\n",
        "\n",
        "    },\n",
        "\n",
        "    {\n",
        "\n",
        "        state_column: 'string',\n",
        "        city_id_column: 'int32',\n",
        "        city_name_column: 'string',\n",
        "        school_id_column: 'int32',\n",
        "        school_name_column: 'string',\n",
        "        school_type_column: 'string',\n",
        "        first_to_third_high_grade_results_column: 'float32',\n",
        "        first_high_grade_results_column: 'float32',\n",
        "        second_high_grade_results_column: 'float32',\n",
        "        third_high_grade_results_column: 'float32',\n",
        "        yield_indicator_column: 'float32',\n",
        "        math_results: 'float32',\n",
        "        portuguese_results_column: 'float32',\n",
        "        standardized_average_column: 'float32',\n",
        "        ideb_column: 'float32'\n",
        "\n",
        "    },\n",
        "\n",
        "    {\n",
        "\n",
        "        state_column: 'string',\n",
        "        city_id_column: 'int32',\n",
        "        city_name_column: 'string',\n",
        "        school_type_column: 'string',\n",
        "        first_to_third_high_grade_results_column: 'float32',\n",
        "        first_high_grade_results_column: 'float32',\n",
        "        second_high_grade_results_column: 'float32',\n",
        "        third_high_grade_results_column: 'float32',\n",
        "        yield_indicator_column: 'float32',\n",
        "        math_results: 'float32',\n",
        "        portuguese_results_column: 'float32',\n",
        "        standardized_average_column: 'float32',\n",
        "        ideb_column: 'float32'\n",
        "\n",
        "    },\n",
        "\n",
        "    {\n",
        "\n",
        "        state_or_region: 'string',\n",
        "        school_type_column: 'string',\n",
        "        first_to_third_high_grade_results_column: 'float32',\n",
        "        first_high_grade_results_column: 'float32',\n",
        "        second_high_grade_results_column: 'float32',\n",
        "        third_high_grade_results_column: 'float32',\n",
        "        yield_indicator_column: 'float32',\n",
        "        math_results: 'float32',\n",
        "        portuguese_results_column: 'float32',\n",
        "        standardized_average_column: 'float32',\n",
        "        ideb_column: 'float32'\n",
        "\n",
        "    },\n",
        "\n",
        "\n",
        "]\n",
        "\n",
        "table_names = [\n",
        "    'wage_brasil',\n",
        "    'wage_per_city',\n",
        "    'wage_per_state',\n",
        "    'divulgacao_anos_finais_escolas_2019',\n",
        "    'divulgacao_anos_finais_municipios_2019',\n",
        "    'divulgacao_anos_iniciais_escolas_2019',\n",
        "    'divulgacao_anos_iniciais_municipios_2019',\n",
        "    'divulgacao_brasil_ideb_2019',\n",
        "    'divulgacao_ensino_medio_escolas_2019',\n",
        "    'divulgacao_ensino_medio_municipios_2019',\n",
        "    'divulgacao_regioes_ufs_ideb'\n",
        "]\n",
        "\n",
        "\n",
        "intervalos = [\n",
        "    [('A', 'B')], [('A', 'A')], [('A', 'A')],[('G', 'AV'), ('BC', 'BW'), ('CA', 'CG'), ('CI', 'CP')],\n",
        "    [('E', 'AT'), ('BA', 'BU'), ('BY', 'CE'), ('CG', 'CN')],\n",
        "    [('G', 'BC'), ('BK', 'CE'), ('CI', 'CO'), ('CQ', 'CX')],\n",
        "    [('E', 'BA'), ('BI', 'CC'), ('CG', 'CM'), ('CO', 'CV')],\n",
        "    [('A', 'A'), ('C', 'AY'), ('BG', 'CA'), ('CE', 'CK'), ('CM', 'CT')],\n",
        "    [('G', 'L'), ('Q', 'Q'), ('S', 'U'), ('Y', 'Y'), ('AA', 'AB')],\n",
        "    [('E', 'J'), ('O', 'O'), ('Q', 'S'), ('W', 'W'), ('Y', 'Z')],\n",
        "    [('C', 'AY'), ('BG', 'CA'), ('CE', 'CK'), ('CM', 'CT')]\n",
        "]\n",
        "\n",
        "# Função para converter letra para número de coluna no Excel\n",
        "def letra_para_numero(letra):\n",
        "    numero = 0\n",
        "    for i, l in enumerate(reversed(letra)):\n",
        "        numero += (ord(l) - 64) * (26 ** i)\n",
        "    return numero - 1\n",
        "\n",
        "# Array para armazenar os índices das colunas\n",
        "drop_columns = []\n",
        "\n",
        "# Percorrendo os intervalos e adicionando os índices das colunas ao array\n",
        "\n",
        "for intervalo in intervalos:\n",
        "    temp = []\n",
        "    for inicio, fim in intervalo:\n",
        "        indice_inicio = letra_para_numero(inicio)\n",
        "        indice_fim = letra_para_numero(fim)\n",
        "        temp.extend(range(indice_inicio, indice_fim + 1))\n",
        "    drop_columns.append(temp)\n",
        "\n",
        "skip_rows = [[9, 3], [9, 3], [9, 3], [10, 3], [10, 3], [10, 3], [10, 3], [10, 3], [10, 3], [10, 3], [10, 6]]\n",
        "\n",
        "indesejados = ['a', 'c', 'd', '-']\n",
        "\n",
        "for i in range(0, 11) :\n",
        "    dataframe = pd.read_excel(f'{extract_dir}{extracted_files[i]}', skiprows=skip_rows[i][0], header=None, skipfooter=skip_rows[i][1], dtype=dtype[i])\n",
        "\n",
        "    colunas_para_dropar = dataframe.columns[drop_columns[i]]\n",
        "    dataframe = dataframe.drop(colunas_para_dropar, axis=1)\n",
        "\n",
        "    dataframe.columns = columns[i]\n",
        "\n",
        "    dataframe_filtered = dataframe.dropna()\n",
        "\n",
        "    mascara_indesejados = dataframe.isin(indesejados).any(axis=1)\n",
        "    dataframe_filtered = dataframe_filtered[~mascara_indesejados]\n",
        "\n",
        "    if (i == 7) or (i == 10):\n",
        "        dataframe_filtered.loc[dataframe_filtered[school_type_column].str.contains(r'Privada \\(\\d\\)', regex=True), school_type_column] = 'Privada'\n",
        "        dataframe_filtered.loc[dataframe_filtered[school_type_column].str.contains(r'Estadual \\(\\d\\)', regex=True), school_type_column] = 'Estadual'\n",
        "        dataframe_filtered.loc[dataframe_filtered[school_type_column].str.contains(r'Pública \\(\\d\\)', regex=True), school_type_column] = 'Pública'\n",
        "        dataframe_filtered.loc[dataframe_filtered[school_type_column].str.contains(r'Municipal \\(\\d\\)', regex=True), school_type_column] = 'Municipal'\n",
        "        dataframe_filtered.loc[dataframe_filtered[school_type_column].str.contains(r'Total \\(\\d\\)\\(\\d\\)', regex=True), school_type_column] = 'Total'\n",
        "        dataframe_filtered.loc[dataframe_filtered[school_type_column].str.contains(r'Total \\(\\d\\)', regex=True), school_type_column] = 'Total'\n",
        "\n",
        "    dataframe_filtered.to_sql(table_names[i], conn, index=False, if_exists='replace')\n",
        "\n",
        "print('Import completed')\n",
        "conn.close()"
      ]
    },
    {
      "cell_type": "markdown",
      "id": "MKoNtSifVu-6",
      "metadata": {
        "id": "MKoNtSifVu-6"
      },
      "source": [
        "# Data Analysis"
      ]
    },
    {
      "cell_type": "code",
      "execution_count": null,
      "id": "2d138d62",
      "metadata": {
        "colab": {
          "base_uri": "https://localhost:8080/"
        },
        "id": "2d138d62",
        "outputId": "2c3796ed-8763-4deb-eafc-2841a3312aa5"
      },
      "outputs": [],
      "source": [
        "def display_df(df, query):\n",
        "    table = PrettyTable()\n",
        "    table.field_names = df.columns.tolist()\n",
        "    for row in df.itertuples(index=False, name=None):\n",
        "        table.add_row(row)\n",
        "    print(f\"Results for query: {query}\\n\")\n",
        "    print(table)\n",
        "    print(\"\\n\")\n",
        "\n",
        "# Establish a connection to the SQLite database\n",
        "conn = sqlite3.connect(database_dir)\n",
        "\n",
        "# Example query to fetch data from a table\n",
        "query = \"\"\"\n",
        "CREATE VIEW IDEB_related_to_wages AS\n",
        "\tSELECT \n",
        "\t    daim.UF,\n",
        "\t    daim.\"Código do município\",\n",
        "\t    daim.\"Nome do município\",\n",
        "\t    daim.Rede,\n",
        "\t    daim.\"Resultados primeiro ao quinto ano\",\n",
        "\t    daim.\"Resultados matematica\" AS math_grades_1st_to_5st,\n",
        "\t    daim.\"Resultados portugues\" AS portuguese_grades_1st_to_5st,\n",
        "\t    daim.\"Indicador de rendimento (P)\" AS performance_ratio_1st_to_5st,\n",
        "\t    daim.\"Media padronizada (N)\" AS standardized_average_1st_to_5st,\n",
        "\t    CAST(daim.\"IDEB (N x P)\" AS FLOAT) AS IDEB_1st_to_5st,\n",
        "\t    dafm.\"Resultados sexto ao nono ano\",\n",
        "\t    dafm.\"Resultados matematica\" AS math_grades_6st_to_9st,\n",
        "\t    dafm.\"Resultados portugues\" AS portuguese_grades_6st_to_9st,\n",
        "\t    dafm.\"Indicador de rendimento (P)\" AS performance_ratio_6st_to_9st,\n",
        "\t    dafm.\"Media padronizada (N)\" AS standardized_average_6st_to_9st,\n",
        "\t    CAST(dafm.\"IDEB (N x P)\" AS FLOAT) AS IDEB_6st_to_9st,\n",
        "\t    demm.\"Resultados primeiro ao terceiro ano ensino medio\",\n",
        "\t    demm.\"Resultados matematica\" AS math_grades_high_school,\n",
        "\t    demm.\"Resultados portugues\" AS portuguese_grades_high_school,\n",
        "\t    demm.\"Indicador de rendimento (P)\" AS performance_ratio_high_school,\n",
        "\t    demm.\"Media padronizada (N)\" AS standardized_average_high_school,\n",
        "\t    CAST(demm.\"IDEB (N x P)\" AS FLOAT) AS IDEB_high_school ,\n",
        "\t    COALESCE(wps.\"Número de docentes Censo Escolar\", wpc.\"Número de docentes Censo Escolar\") AS teachers_quantity,\n",
        "\t    COALESCE(wps.Mediana, wpc.Mediana) AS wages_median,\n",
        "\t    COALESCE(wps.Média, wpc.Média) AS wages_average,\n",
        "\t    COALESCE(wps.\"Desvio padrão\", wpc.\"Desvio padrão\") AS wages_standard_deviation,\n",
        "\t    COALESCE(wps.\"Carga horária média semanal\", wpc.\"Carga horária média semanal\") AS teachers_weekly_working_hours_average,\n",
        "\t    CASE \n",
        "        \tWHEN daim.Rede = 'Pública' \n",
        "        \t\tTHEN \n",
        "        \t\t\t((COALESCE (CAST(wps.\"Remuneração média padronizada para 40h semanais em R$\" AS FLOAT), 0) * COALESCE (CAST(wps.\"Número de docentes Censo Escolar\" AS FLOAT), 0)) + \n",
        "        \t\t\t(COALESCE (CAST(wpc.\"Remuneração média padronizada para 40h semanais em R$\" AS FLOAT), 0) * COALESCE (CAST(wpc.\"Número de docentes Censo Escolar\" AS FLOAT), 0))) /\n",
        "        \t\t\t(COALESCE (CAST(wps.\"Número de docentes Censo Escolar\" AS FLOAT), 0) + COALESCE (CAST(wpc.\"Número de docentes Censo Escolar\" AS FLOAT), 0))\n",
        "    \t    \tELSE CAST(COALESCE(wps.\"Remuneração média padronizada para 40h semanais em R$\", wpc.\"Remuneração média padronizada para 40h semanais em R$\") AS FLOAT)\n",
        "\t    END AS wages_for_40h_working_hours\n",
        "\t\tFROM divulgacao_anos_iniciais_municipios_2019 daim\n",
        "\t\tLEFT JOIN divulgacao_anos_finais_municipios_2019 dafm \n",
        "\t\t\tON daim.\"Código do município\" = dafm.\"Código do município\" AND daim.Rede = dafm.Rede\n",
        "\t\tLEFT JOIN divulgacao_ensino_medio_municipios_2019 demm\n",
        "\t\t\tON demm.\"Código do município\" = daim.\"Código do município\" AND demm.Rede = daim.Rede\n",
        "\t\tLEFT JOIN wage_per_city wpc \n",
        "\t\t\tON wpc.\"Código do município\" = daim.\"Código do município\" AND wpc.\"Escolaridade do docente\" = 'Total'\n",
        "\t\tLEFT JOIN wage_per_state wps\n",
        "\t\t\tON daim.Rede = 'Estadual' AND wps.UF = daim.UF AND wps.\"Escolaridade do docente\" = 'Total' AND wps.\"Dependência administrativa\" = 'Estadual' \n",
        "\t\tWHERE COALESCE(wps.\"Remuneração média padronizada para 40h semanais em R$\", wpc.\"Remuneração média padronizada para 40h semanais em R$\") IS NOT NULL \n",
        "\"\"\"\n",
        "\n",
        "conn.execute(query)\n",
        "\n",
        "querySelectView = \"SELECT * FROM IDEB_related_to_wages\"\n",
        "# Execute the query and load the results into a pandas DataFrame\n",
        "df = pd.read_sql_query(querySelectView, conn)\n",
        "\n",
        "display_df(df, querySelectView)\n",
        "\n",
        "# Close the connection\n",
        "conn.close()\n"
      ]
    },
    {
      "cell_type": "markdown",
      "id": "d5748f8e",
      "metadata": {},
      "source": [
        "## High School Analysis"
      ]
    },
    {
      "cell_type": "markdown",
      "id": "f7887443",
      "metadata": {},
      "source": [
        "### National High School Analysis"
      ]
    },
    {
      "cell_type": "code",
      "execution_count": null,
      "id": "7f0a4879",
      "metadata": {},
      "outputs": [],
      "source": [
        "def getNationalData(nTiles=1, tilesToUse=[]):\n",
        "    conn = sqlite3.connect(database_dir)\n",
        "\n",
        "    tiles_condition = \"\"\n",
        "    if len(tilesToUse) > 0:\n",
        "        tiles_condition = f\"AND interval_position IN ({', '.join(tilesToUse)})\"\n",
        "\n",
        "    query = f\"\"\"\n",
        "    WITH data AS (\n",
        "        SELECT \n",
        "            *,\n",
        "            NTILE({nTiles}) OVER(ORDER BY wages_for_40h_working_hours) AS interval_position\n",
        "        FROM (\n",
        "            SELECT * from IDEB_related_to_wages irtw\n",
        "            WHERE irtw.IDEB_high_school IS NOT NULL \n",
        "            )\n",
        "    )\n",
        "    SELECT \n",
        "        \"Nome do município\",\n",
        "        \"UF\",\n",
        "        Rede,\n",
        "        IDEB_1st_to_5st,\n",
        "        IDEB_6st_to_9st,\n",
        "        IDEB_high_school,\n",
        "        teachers_weekly_working_hours_average,\n",
        "        wages_for_40h_working_hours\n",
        "    FROM data\n",
        "    WHERE Rede != 'Federal' {tiles_condition}\n",
        "    \"\"\"\n",
        "\n",
        "    data = pd.read_sql_query(query, conn)\n",
        "\n",
        "    conn.close()\n",
        "\n",
        "    return data"
      ]
    },
    {
      "cell_type": "code",
      "execution_count": null,
      "id": "30316b0d",
      "metadata": {},
      "outputs": [],
      "source": [
        "plotToUse = int(input(\"Tipo de grafico [0 - Grafico de Dispersao, 1 - Mapa de calor]: \"))\n",
        "\n",
        "if plotToUse == 0:\n",
        "    ideb = int(input(\"IDEB selecionado [1 - Ensino fundamental I; 2 - Ensino Fundamental 2; 3 - Ensino Medio]: \"))\n",
        "getBySubDivisions = input(\"Precisa de divisoes (quantis)? [apenas enter para pular] \")\n",
        "\n",
        "nTiles = 1\n",
        "tilesToUse = []\n",
        "if getBySubDivisions:\n",
        "    nTiles = int(input(\"Numero de divisoes (Quantis): \"))\n",
        "    inputAnswer = int(input(\"Utilizar o quantil numero [0 para finalizar selecao de quantis]: \"))\n",
        "    while inputAnswer != 0:\n",
        "        tilesToUse.append(str(inputAnswer))\n",
        "        inputAnswer = int(input(\"Utilizar o quantil numero [0 para finalizar selecao de quantis]: \"))\n",
        "\n",
        "idebOptions = [\"IDEB_1st_to_5st\", \"IDEB_6st_to_9st\", \"IDEB_high_school\"]\n",
        "\n",
        "data = getNationalData(nTiles, tilesToUse).drop(columns=['Nome do município', 'UF', 'Rede'])\n",
        "\n",
        "if plotToUse == 0:\n",
        "    data.plot.scatter(x=\"wages_for_40h_working_hours\", y=idebOptions[ideb-1])\n",
        "elif plotToUse == 1:\n",
        "    # Correlations\n",
        "    corrData = data\n",
        "    corr = corrData.corr()\n",
        "    sb.heatmap(corr)\n",
        "\n",
        "    print(corr)"
      ]
    },
    {
      "cell_type": "markdown",
      "id": "87b6845b",
      "metadata": {},
      "source": [
        "### Regional High School Analysis"
      ]
    },
    {
      "cell_type": "code",
      "execution_count": null,
      "id": "a82f107d",
      "metadata": {},
      "outputs": [],
      "source": [
        "def getDataframeByUFs(UFs, nTiles=1, tilesToUse=[]):\n",
        "    conn = sqlite3.connect(database_dir)\n",
        "\n",
        "    tiles_condition = \"\"\n",
        "    if len(tilesToUse) > 0:\n",
        "        tiles_condition = f\"AND interval_position IN ({', '.join(tilesToUse)})\"\n",
        "\n",
        "    query = f\"\"\"\n",
        "    WITH data AS (\n",
        "        SELECT \n",
        "            *,\n",
        "            NTILE({nTiles}) OVER(ORDER BY wages_for_40h_working_hours) AS interval_position\n",
        "        FROM (\n",
        "            SELECT * from IDEB_related_to_wages irtw\n",
        "            WHERE irtw.IDEB_high_school IS NOT NULL \n",
        "            )\n",
        "    )\n",
        "    SELECT \n",
        "        \"Nome do município\",\n",
        "        \"UF\",\n",
        "        Rede,\n",
        "        IDEB_1st_to_5st,\n",
        "        IDEB_6st_to_9st,\n",
        "        IDEB_high_school,\n",
        "        teachers_weekly_working_hours_average,\n",
        "        wages_for_40h_working_hours\n",
        "    FROM data\n",
        "    WHERE Rede != 'Federal' \n",
        "    AND UF IN ('{\"', '\".join(UFs)}') {tiles_condition}\n",
        "    \"\"\"\n",
        "\n",
        "    data = pd.read_sql_query(query, conn)\n",
        "\n",
        "    conn.close()\n",
        "\n",
        "    return data"
      ]
    },
    {
      "cell_type": "markdown",
      "id": "58656b1d",
      "metadata": {},
      "source": [
        "#### Custom Plot (Gráfico de Dispersão ou Mapa de calor)"
      ]
    },
    {
      "cell_type": "code",
      "execution_count": null,
      "id": "6018a75f",
      "metadata": {},
      "outputs": [],
      "source": [
        "plotToUse = int(input(\"Tipo de grafico [0 - Grafico de Dispersao, 1 - Mapa de calor]: \"))\n",
        "\n",
        "region = (input(\"Regiao a ser analisada [Norte, Nordeste, Centro-Oeste, Sudeste ou Sul]: \")).lower()\n",
        "if plotToUse == 0:\n",
        "    ideb = int(input(\"IDEB selecionado [1 - Ensino fundamental I; 2 - Ensino Fundamental 2; 3 - Ensino Medio]: \"))\n",
        "getBySubDivisions = input(\"Precisa de divisoes (quantis)? [apenas enter para pular] \")\n",
        "\n",
        "nTiles = 1\n",
        "tilesToUse = []\n",
        "if getBySubDivisions:\n",
        "    nTiles = int(input(\"Numero de divisoes (Quantis): \"))\n",
        "    inputAnswer = int(input(\"Utilizar o quantil numero [0 para finalizar selecao de quantis]: \"))\n",
        "    while inputAnswer != 0:\n",
        "        tilesToUse.append(str(inputAnswer))\n",
        "        inputAnswer = int(input(\"Utilizar o quantil numero [0 para finalizar selecao de quantis]: \"))\n",
        "\n",
        "regions = {\n",
        "    \"norte\": ['AC', 'AP', 'AM', 'PA', 'RO', 'RR', 'TO'],\n",
        "    \"nordeste\": [\"AL\", \"BA\", \"CE\", \"MA\", \"PB\", \"PE\", \"PI\", \"RN\", \"SE\"],\n",
        "    \"centro-oeste\": [\"DF\", \"GO\", \"MT\", \"MS\"],\n",
        "    \"sudeste\": [\"MG\", \"ES\", \"SP\", \"RJ\"],\n",
        "    \"sul\": [\"PR\", \"SC\", \"RS\"]\n",
        "}\n",
        "\n",
        "idebOptions = [\"IDEB_1st_to_5st\", \"IDEB_6st_to_9st\", \"IDEB_high_school\"]\n",
        "\n",
        "data = getDataframeByUFs(regions[region], nTiles, tilesToUse).drop(columns=['Nome do município', 'UF', 'Rede'])\n",
        "\n",
        "if plotToUse == 0:\n",
        "    data.plot.scatter(x=\"wages_for_40h_working_hours\", y=idebOptions[ideb-1])\n",
        "elif plotToUse == 1:\n",
        "    # Correlations\n",
        "    corrData = data\n",
        "    corr = corrData.corr()\n",
        "    sb.heatmap(corr)\n",
        "\n",
        "    print(corr)"
      ]
    },
    {
      "cell_type": "markdown",
      "id": "5a9514fd",
      "metadata": {},
      "source": [
        "#### Norte"
      ]
    },
    {
      "cell_type": "code",
      "execution_count": null,
      "id": "b95d5f8d",
      "metadata": {},
      "outputs": [],
      "source": [
        "# Correlations\n",
        "northData = getDataframeByUFs(['AC', 'AP', 'AM', 'PA', 'RO', 'RR', 'TO']).drop(columns=['Nome do município', 'UF', 'Rede'])\n",
        "corr = northData.corr()\n",
        "sb.heatmap(corr)\n",
        "\n",
        "print(corr)"
      ]
    },
    {
      "cell_type": "markdown",
      "id": "89300e6e",
      "metadata": {},
      "source": [
        "#### Nordeste"
      ]
    },
    {
      "cell_type": "code",
      "execution_count": null,
      "id": "ece0851d",
      "metadata": {},
      "outputs": [],
      "source": [
        "# Correlations\n",
        "northeastData = getDataframeByUFs([\"AL\", \"BA\", \"CE\", \"MA\", \"PB\", \"PE\", \"PI\", \"RN\", \"SE\"]).drop(columns=['Nome do município', 'UF', 'Rede'])\n",
        "corr = northeastData.corr()\n",
        "sb.heatmap(corr)\n",
        "\n",
        "print(corr)"
      ]
    },
    {
      "cell_type": "markdown",
      "id": "b4ebf1e3",
      "metadata": {},
      "source": [
        "#### Centro-Oeste"
      ]
    },
    {
      "cell_type": "code",
      "execution_count": null,
      "id": "46cdacd3",
      "metadata": {},
      "outputs": [],
      "source": [
        "# Correlations\n",
        "midWest = getDataframeByUFs([\"DF\", \"GO\", \"MT\", \"MS\"]).drop(columns=['Nome do município', 'UF', 'Rede'])\n",
        "corr = midWest.corr()\n",
        "sb.heatmap(corr)\n",
        "\n",
        "print(corr)"
      ]
    },
    {
      "cell_type": "markdown",
      "id": "23025296",
      "metadata": {},
      "source": [
        "#### Sudeste"
      ]
    },
    {
      "cell_type": "code",
      "execution_count": null,
      "id": "a7403b85",
      "metadata": {},
      "outputs": [],
      "source": [
        "# Correlations\n",
        "southeast = getDataframeByUFs([\"MG\", \"ES\", \"SP\", \"RJ\"]).drop(columns=['Nome do município', 'UF', 'Rede'])\n",
        "corr = southeast.corr()\n",
        "sb.heatmap(corr)\n",
        "\n",
        "print(corr)"
      ]
    },
    {
      "cell_type": "markdown",
      "id": "7fae58db",
      "metadata": {},
      "source": [
        "#### Sul"
      ]
    },
    {
      "cell_type": "code",
      "execution_count": null,
      "id": "ee156609",
      "metadata": {},
      "outputs": [],
      "source": [
        "# Correlations\n",
        "south = getDataframeByUFs([\"PR\", \"SC\", \"RS\"]).drop(columns=['Nome do município', 'UF', 'Rede'])\n",
        "corr = south.corr()\n",
        "sb.heatmap(corr)\n",
        "\n",
        "print(corr)"
      ]
    },
    {
      "cell_type": "markdown",
      "id": "7b5d619d",
      "metadata": {},
      "source": [
        "### By State Analysis"
      ]
    },
    {
      "cell_type": "code",
      "execution_count": null,
      "id": "1187e2bb",
      "metadata": {},
      "outputs": [],
      "source": [
        "def getDataframeByUF(UF, nTiles=1, tilesToUse=[]):\n",
        "    conn = sqlite3.connect(database_dir)\n",
        "\n",
        "    tiles_condition = \"\"\n",
        "    if len(tilesToUse) > 0:\n",
        "        tiles_condition = f\"AND interval_position IN ({', '.join(tilesToUse)})\"\n",
        "\n",
        "    query = f\"\"\"\n",
        "    WITH data AS (\n",
        "        SELECT \n",
        "            *,\n",
        "            NTILE({nTiles}) OVER(ORDER BY wages_for_40h_working_hours) AS interval_position\n",
        "        FROM (\n",
        "            SELECT * from IDEB_related_to_wages irtw\n",
        "            WHERE irtw.IDEB_high_school IS NOT NULL \n",
        "            )\n",
        "    )\n",
        "    SELECT \n",
        "        \"Nome do município\",\n",
        "        \"UF\",\n",
        "        Rede,\n",
        "        IDEB_1st_to_5st,\n",
        "        IDEB_6st_to_9st,\n",
        "        IDEB_high_school,\n",
        "        teachers_weekly_working_hours_average,\n",
        "        wages_for_40h_working_hours\n",
        "    FROM data\n",
        "    WHERE Rede != 'Federal' \n",
        "    AND UF = '{UF}' {tiles_condition}\n",
        "    \"\"\"\n",
        "\n",
        "    data = pd.read_sql_query(query, conn)\n",
        "\n",
        "\n",
        "    conn.close()\n",
        "\n",
        "    return data"
      ]
    },
    {
      "cell_type": "markdown",
      "id": "a45a3e53",
      "metadata": {},
      "source": [
        "#### Custom Plot (Gráfico de Dispersão ou Mapa de calor)"
      ]
    },
    {
      "cell_type": "code",
      "execution_count": null,
      "id": "4f139acd",
      "metadata": {},
      "outputs": [],
      "source": [
        "plotToUse = int(input(\"Tipo de grafico [0 - Grafico de Dispersao, 1 - Mapa de calor]: \"))\n",
        "\n",
        "state = input(\"Estado a ser analisado: \")\n",
        "if plotToUse == 0:\n",
        "    ideb = int(input(\"IDEB selecionado [1 - Ensino fundamental I; 2 - Ensino Fundamental 2; 3 - Ensino Medio]: \"))\n",
        "\n",
        "getBySubDivisions = input(\"Precisa de divisoes (quantis)? [apenas enter para pular] \")\n",
        "\n",
        "nTiles = 1\n",
        "tilesToUse = []\n",
        "if getBySubDivisions:\n",
        "    nTiles = int(input(\"Numero de divisoes (Quantis): \"))\n",
        "    inputAnswer = int(input(\"Utilizar o quantil numero [0 para finalizar selecao de quantis]: \"))\n",
        "    while inputAnswer != 0:\n",
        "        tilesToUse.append(str(inputAnswer))\n",
        "        inputAnswer = int(input(\"Utilizar o quantil numero [0 para finalizar selecao de quantis]: \"))\n",
        "\n",
        "\n",
        "idebOptions = [\"IDEB_1st_to_5st\", \"IDEB_6st_to_9st\", \"IDEB_high_school\"]\n",
        "\n",
        "data = getDataframeByUF(state, nTiles, tilesToUse).drop(columns=['Nome do município', 'UF', 'Rede'])\n",
        "\n",
        "\n",
        "if plotToUse == 0:\n",
        "    data.plot.scatter(x=\"wages_for_40h_working_hours\", y=idebOptions[ideb-1])\n",
        "elif plotToUse == 1:\n",
        "    # Correlations\n",
        "    corrData = data\n",
        "    corr = corrData.corr()\n",
        "    sb.heatmap(corr)\n",
        "\n",
        "    print(corr)"
      ]
    },
    {
      "cell_type": "markdown",
      "id": "1252b8ed",
      "metadata": {},
      "source": [
        "#### Acre"
      ]
    },
    {
      "cell_type": "code",
      "execution_count": null,
      "id": "f4032296",
      "metadata": {},
      "outputs": [],
      "source": [
        "# Correlations\n",
        "acre = getDataframeByUF(\"AC\").drop(columns=['Nome do município', 'UF', 'Rede'])\n",
        "corr = acre.corr()\n",
        "sb.heatmap(corr)\n",
        "\n",
        "print(corr)"
      ]
    },
    {
      "cell_type": "markdown",
      "id": "1252b8ed",
      "metadata": {},
      "source": [
        "#### Alagoas"
      ]
    },
    {
      "cell_type": "code",
      "execution_count": null,
      "id": "f4032296",
      "metadata": {},
      "outputs": [],
      "source": [
        "# Correlations\n",
        "alagoas = getDataframeByUF(\"AL\").drop(columns=['Nome do município', 'UF', 'Rede'])\n",
        "corr = alagoas.corr()\n",
        "sb.heatmap(corr)\n",
        "\n",
        "print(corr)"
      ]
    },
    {
      "cell_type": "markdown",
      "id": "1252b8ed",
      "metadata": {},
      "source": [
        "#### Amapá"
      ]
    },
    {
      "cell_type": "code",
      "execution_count": null,
      "id": "f4032296",
      "metadata": {},
      "outputs": [],
      "source": [
        "# Correlations\n",
        "amapa = getDataframeByUF(\"AP\").drop(columns=['Nome do município', 'UF', 'Rede'])\n",
        "corr = amapa.corr()\n",
        "sb.heatmap(corr)\n",
        "\n",
        "print(corr)"
      ]
    },
    {
      "cell_type": "markdown",
      "id": "1252b8ed",
      "metadata": {},
      "source": [
        "#### Amazonas"
      ]
    },
    {
      "cell_type": "code",
      "execution_count": null,
      "id": "f4032296",
      "metadata": {},
      "outputs": [],
      "source": [
        "# Correlations\n",
        "amazonas = getDataframeByUF(\"AM\").drop(columns=['Nome do município', 'UF', 'Rede'])\n",
        "corr = amazonas.corr()\n",
        "sb.heatmap(corr)\n",
        "\n",
        "print(corr)"
      ]
    },
    {
      "cell_type": "markdown",
      "id": "1252b8ed",
      "metadata": {},
      "source": [
        "#### Bahia"
      ]
    },
    {
      "cell_type": "code",
      "execution_count": null,
      "id": "f4032296",
      "metadata": {},
      "outputs": [],
      "source": [
        "# Correlations\n",
        "bahia = getDataframeByUF(\"BA\").drop(columns=['Nome do município', 'UF', 'Rede'])\n",
        "corr = bahia.corr()\n",
        "sb.heatmap(corr)\n",
        "\n",
        "print(corr)"
      ]
    },
    {
      "cell_type": "markdown",
      "id": "1252b8ed",
      "metadata": {},
      "source": [
        "#### Ceará"
      ]
    },
    {
      "cell_type": "code",
      "execution_count": null,
      "id": "f4032296",
      "metadata": {},
      "outputs": [],
      "source": [
        "# Correlations\n",
        "ceara = getDataframeByUF(\"CE\").drop(columns=['Nome do município', 'UF', 'Rede'])\n",
        "corr = ceara.corr()\n",
        "sb.heatmap(corr)\n",
        "\n",
        "print(corr)"
      ]
    },
    {
      "cell_type": "markdown",
      "id": "1252b8ed",
      "metadata": {},
      "source": [
        "#### Distrito Federal"
      ]
    },
    {
      "cell_type": "code",
      "execution_count": null,
      "id": "f4032296",
      "metadata": {},
      "outputs": [],
      "source": [
        "# Correlations\n",
        "df = getDataframeByUF(\"DF\").drop(columns=['Nome do município', 'UF', 'Rede'])\n",
        "corr = df.corr()\n",
        "sb.heatmap(corr)\n",
        "\n",
        "print(corr)"
      ]
    },
    {
      "cell_type": "markdown",
      "id": "1252b8ed",
      "metadata": {},
      "source": [
        "#### Espírito Santo"
      ]
    },
    {
      "cell_type": "code",
      "execution_count": null,
      "id": "f4032296",
      "metadata": {},
      "outputs": [],
      "source": [
        "# Correlations\n",
        "espirito_santo = getDataframeByUF(\"ES\").drop(columns=['Nome do município', 'UF', 'Rede'])\n",
        "corr = espirito_santo.corr()\n",
        "sb.heatmap(corr)\n",
        "\n",
        "print(corr)"
      ]
    },
    {
      "cell_type": "markdown",
      "id": "1252b8ed",
      "metadata": {},
      "source": [
        "#### Goiás"
      ]
    },
    {
      "cell_type": "code",
      "execution_count": null,
      "id": "f4032296",
      "metadata": {},
      "outputs": [],
      "source": [
        "# Correlations\n",
        "goias = getDataframeByUF(\"GO\").drop(columns=['Nome do município', 'UF', 'Rede'])\n",
        "corr = goias.corr()\n",
        "sb.heatmap(corr)\n",
        "\n",
        "print(corr)"
      ]
    },
    {
      "cell_type": "markdown",
      "id": "1252b8ed",
      "metadata": {},
      "source": [
        "#### Maranhão"
      ]
    },
    {
      "cell_type": "code",
      "execution_count": null,
      "id": "f4032296",
      "metadata": {},
      "outputs": [],
      "source": [
        "# Correlations\n",
        "maranhao = getDataframeByUF(\"MA\").drop(columns=['Nome do município', 'UF', 'Rede'])\n",
        "corr = maranhao.corr()\n",
        "sb.heatmap(corr)\n",
        "\n",
        "print(corr)"
      ]
    },
    {
      "cell_type": "markdown",
      "id": "1252b8ed",
      "metadata": {},
      "source": [
        "#### Mato Grosso"
      ]
    },
    {
      "cell_type": "code",
      "execution_count": null,
      "id": "f4032296",
      "metadata": {},
      "outputs": [],
      "source": [
        "# Correlations\n",
        "mato_grosso = getDataframeByUF(\"MT\").drop(columns=['Nome do município', 'UF', 'Rede'])\n",
        "corr = mato_grosso.corr()\n",
        "sb.heatmap(corr)\n",
        "\n",
        "print(corr)"
      ]
    },
    {
      "cell_type": "markdown",
      "id": "1252b8ed",
      "metadata": {},
      "source": [
        "#### Mato Grosso do Sul"
      ]
    },
    {
      "cell_type": "code",
      "execution_count": null,
      "id": "f4032296",
      "metadata": {},
      "outputs": [],
      "source": [
        "# Correlations\n",
        "mato_grosso_sul = getDataframeByUF(\"MS\").drop(columns=['Nome do município', 'UF', 'Rede'])\n",
        "corr = mato_grosso_sul.corr()\n",
        "sb.heatmap(corr)\n",
        "\n",
        "print(corr)"
      ]
    },
    {
      "cell_type": "markdown",
      "id": "1252b8ed",
      "metadata": {},
      "source": [
        "#### Minas Gerais"
      ]
    },
    {
      "cell_type": "code",
      "execution_count": null,
      "id": "f4032296",
      "metadata": {},
      "outputs": [],
      "source": [
        "# Correlations\n",
        "minas_gerais = getDataframeByUF(\"MG\").drop(columns=['Nome do município', 'UF', 'Rede'])\n",
        "corr = minas_gerais.corr()\n",
        "sb.heatmap(corr)\n",
        "\n",
        "print(corr)"
      ]
    },
    {
      "cell_type": "markdown",
      "id": "1252b8ed",
      "metadata": {},
      "source": [
        "#### Pará"
      ]
    },
    {
      "cell_type": "code",
      "execution_count": null,
      "id": "f4032296",
      "metadata": {},
      "outputs": [],
      "source": [
        "# Correlations\n",
        "para = getDataframeByUF(\"PA\").drop(columns=['Nome do município', 'UF', 'Rede'])\n",
        "corr = para.corr()\n",
        "sb.heatmap(corr)\n",
        "\n",
        "print(corr)"
      ]
    },
    {
      "cell_type": "markdown",
      "id": "1252b8ed",
      "metadata": {},
      "source": [
        "#### Paraíba"
      ]
    },
    {
      "cell_type": "code",
      "execution_count": null,
      "id": "f4032296",
      "metadata": {},
      "outputs": [],
      "source": [
        "# Correlations\n",
        "paraiba = getDataframeByUF(\"PB\").drop(columns=['Nome do município', 'UF', 'Rede'])\n",
        "corr = paraiba.corr()\n",
        "sb.heatmap(corr)\n",
        "\n",
        "print(corr)"
      ]
    },
    {
      "cell_type": "markdown",
      "id": "1252b8ed",
      "metadata": {},
      "source": [
        "#### Paraná"
      ]
    },
    {
      "cell_type": "code",
      "execution_count": null,
      "id": "f4032296",
      "metadata": {},
      "outputs": [],
      "source": [
        "# Correlations\n",
        "parana = getDataframeByUF(\"PR\").drop(columns=['Nome do município', 'UF', 'Rede'])\n",
        "corr = parana.corr()\n",
        "sb.heatmap(corr)\n",
        "\n",
        "print(corr)"
      ]
    },
    {
      "cell_type": "markdown",
      "id": "1252b8ed",
      "metadata": {},
      "source": [
        "#### Pernambuco"
      ]
    },
    {
      "cell_type": "code",
      "execution_count": null,
      "id": "f4032296",
      "metadata": {},
      "outputs": [],
      "source": [
        "# Correlations\n",
        "pernambuco = getDataframeByUF(\"PE\").drop(columns=['Nome do município', 'UF', 'Rede'])\n",
        "corr = pernambuco.corr()\n",
        "sb.heatmap(corr)\n",
        "\n",
        "print(corr)"
      ]
    },
    {
      "cell_type": "markdown",
      "id": "1252b8ed",
      "metadata": {},
      "source": [
        "#### Piauí"
      ]
    },
    {
      "cell_type": "code",
      "execution_count": null,
      "id": "f4032296",
      "metadata": {},
      "outputs": [],
      "source": [
        "# Correlations\n",
        "piaui = getDataframeByUF(\"PI\").drop(columns=['Nome do município', 'UF', 'Rede'])\n",
        "corr = piaui.corr()\n",
        "sb.heatmap(corr)\n",
        "\n",
        "print(corr)"
      ]
    },
    {
      "cell_type": "markdown",
      "id": "1252b8ed",
      "metadata": {},
      "source": [
        "#### Rio de Janeiro"
      ]
    },
    {
      "cell_type": "code",
      "execution_count": null,
      "id": "f4032296",
      "metadata": {},
      "outputs": [],
      "source": [
        "# Correlations\n",
        "rio_janeiro = getDataframeByUF(\"RJ\").drop(columns=['Nome do município', 'UF', 'Rede'])\n",
        "corr = rio_janeiro.corr()\n",
        "sb.heatmap(corr)\n",
        "\n",
        "print(corr)"
      ]
    },
    {
      "cell_type": "markdown",
      "id": "1252b8ed",
      "metadata": {},
      "source": [
        "#### Rio Grande do Norte"
      ]
    },
    {
      "cell_type": "code",
      "execution_count": null,
      "id": "f4032296",
      "metadata": {},
      "outputs": [],
      "source": [
        "# Correlations\n",
        "rio_grande_norte = getDataframeByUF(\"RN\").drop(columns=['Nome do município', 'UF', 'Rede'])\n",
        "corr = rio_grande_norte.corr()\n",
        "sb.heatmap(corr)\n",
        "\n",
        "print(corr)"
      ]
    },
    {
      "cell_type": "markdown",
      "id": "1252b8ed",
      "metadata": {},
      "source": [
        "#### Rio Grande do Sul"
      ]
    },
    {
      "cell_type": "code",
      "execution_count": null,
      "id": "f4032296",
      "metadata": {},
      "outputs": [],
      "source": [
        "# Correlations\n",
        "rio_grande_sul = getDataframeByUF(\"RS\").drop(columns=['Nome do município', 'UF', 'Rede'])\n",
        "corr = rio_grande_sul.corr()\n",
        "sb.heatmap(corr)\n",
        "\n",
        "print(corr)"
      ]
    },
    {
      "cell_type": "markdown",
      "id": "1252b8ed",
      "metadata": {},
      "source": [
        "#### Rondônia"
      ]
    },
    {
      "cell_type": "code",
      "execution_count": null,
      "id": "f4032296",
      "metadata": {},
      "outputs": [],
      "source": [
        "# Correlations\n",
        "rondonia = getDataframeByUF(\"RO\").drop(columns=['Nome do município', 'UF', 'Rede'])\n",
        "corr = rondonia.corr()\n",
        "sb.heatmap(corr)\n",
        "\n",
        "print(corr)"
      ]
    },
    {
      "cell_type": "markdown",
      "id": "1252b8ed",
      "metadata": {},
      "source": [
        "#### Roraima"
      ]
    },
    {
      "cell_type": "code",
      "execution_count": null,
      "id": "f4032296",
      "metadata": {},
      "outputs": [],
      "source": [
        "# Correlations\n",
        "roraima = getDataframeByUF(\"RR\").drop(columns=['Nome do município', 'UF', 'Rede'])\n",
        "corr = roraima.corr()\n",
        "sb.heatmap(corr)\n",
        "\n",
        "print(corr)"
      ]
    },
    {
      "cell_type": "markdown",
      "id": "1252b8ed",
      "metadata": {},
      "source": [
        "#### Santa Catarina"
      ]
    },
    {
      "cell_type": "code",
      "execution_count": null,
      "id": "f4032296",
      "metadata": {},
      "outputs": [],
      "source": [
        "# Correlations\n",
        "santa_catarina = getDataframeByUF(\"SC\").drop(columns=['Nome do município', 'UF', 'Rede'])\n",
        "corr = santa_catarina.corr()\n",
        "sb.heatmap(corr)\n",
        "\n",
        "print(corr)"
      ]
    },
    {
      "cell_type": "markdown",
      "id": "1252b8ed",
      "metadata": {},
      "source": [
        "#### São Paulo"
      ]
    },
    {
      "cell_type": "code",
      "execution_count": null,
      "id": "f4032296",
      "metadata": {},
      "outputs": [],
      "source": [
        "# Correlations\n",
        "sao_paulo = getDataframeByUF(\"SP\").drop(columns=['Nome do município', 'UF', 'Rede'])\n",
        "corr = sao_paulo.corr()\n",
        "sb.heatmap(corr)\n",
        "\n",
        "print(corr)"
      ]
    },
    {
      "cell_type": "markdown",
      "id": "1252b8ed",
      "metadata": {},
      "source": [
        "#### Sergipe"
      ]
    },
    {
      "cell_type": "code",
      "execution_count": null,
      "id": "f4032296",
      "metadata": {},
      "outputs": [],
      "source": [
        "# Correlations\n",
        "sergipe = getDataframeByUF(\"SE\").drop(columns=['Nome do município', 'UF', 'Rede'])\n",
        "corr = sergipe.corr()\n",
        "sb.heatmap(corr)\n",
        "\n",
        "print(corr)"
      ]
    },
    {
      "cell_type": "markdown",
      "id": "1252b8ed",
      "metadata": {},
      "source": [
        "#### Tocantins"
      ]
    },
    {
      "cell_type": "code",
      "execution_count": null,
      "id": "f4032296",
      "metadata": {},
      "outputs": [],
      "source": [
        "# Correlations\n",
        "tocantins = getDataframeByUF(\"TO\").drop(columns=['Nome do município', 'UF', 'Rede'])\n",
        "corr = tocantins.corr()\n",
        "sb.heatmap(corr)\n",
        "\n",
        "print(corr)"
      ]
    }
  ],
  "metadata": {
    "colab": {
      "provenance": []
    },
    "kernelspec": {
      "display_name": "Python 3 (ipykernel)",
      "language": "python",
      "name": "python3"
    },
    "language_info": {
      "codemirror_mode": {
        "name": "ipython",
        "version": 3
      },
      "file_extension": ".py",
      "mimetype": "text/x-python",
      "name": "python",
      "nbconvert_exporter": "python",
      "pygments_lexer": "ipython3",
      "version": "3.10.12"
    }
  },
  "nbformat": 4,
  "nbformat_minor": 5
}
